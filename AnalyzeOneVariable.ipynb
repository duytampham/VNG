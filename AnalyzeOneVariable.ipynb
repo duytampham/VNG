{
 "cells": [
  {
   "cell_type": "code",
   "execution_count": 1,
   "metadata": {
    "collapsed": false
   },
   "outputs": [],
   "source": [
    "# Read Data\n",
    "import pandas as pd\n",
    "f = open('/home/tampd/Downloads/cheatView1207.txt', 'r')\n",
    "RowDatas = f.read().split('\\n')\n",
    "RawDatas = []\n",
    "for RowData in RowDatas:\n",
    "    RawDatas.append(RowData.split('\\t'))\n",
    "Datas = pd.DataFrame(RawDatas, columns = ['Time', 'UserName', 'VisitorID', 'ListenTime', 'TimeBetween'\n",
    "                                          ,'MediaID', 'IP'])\n",
    "Datas = Datas[:-1]\n",
    "f.close()"
   ]
  },
  {
   "cell_type": "code",
   "execution_count": null,
   "metadata": {
    "collapsed": false
   },
   "outputs": [],
   "source": [
    "# Reprocess Data\n",
    "Datas['ListenTime'][Datas['ListenTime'] == ''] = '0'\n",
    "Datas['TimeBetween'][Datas['TimeBetween'] == ''] = '0'\n",
    "Datas[['ListenTime', 'TimeBetween']] = Datas[['ListenTime', 'TimeBetween']].astype(float)"
   ]
  },
  {
   "cell_type": "markdown",
   "metadata": {},
   "source": [
    "-Thuộc tính 'Time' thuộc thang đo khoảng: Unique, Mode, Mean, Frequency ,25%, 50%, 75%, 90%, 95%, 99%, Variance, Standard Error.\n",
    "\n",
    "-Thuộc tính 'UserName' thuộc thang đo định danh: Unique, Mode, Frequency.\n",
    "\n",
    "-Thuộc tính 'VistorID' thuộc thang đo định danh: Unique, Mode, Frequency.\n",
    "\n",
    "-Thuộc tính 'ListenTime' thuộc thang đo tỉ lệ: Mode, Mean, 25%, 50%, 75%, 90%, 95%, 99%, Variance, Standard Error.\n",
    "\n",
    "-Thuộc tính 'MediaID' thuộc thang đo định danh: Unique, Mode, Frequency."
   ]
  },
  {
   "cell_type": "code",
   "execution_count": null,
   "metadata": {
    "collapsed": false,
    "scrolled": true
   },
   "outputs": [
    {
     "name": "stdout",
     "output_type": "stream",
     "text": [
      "------------------------------------------------------------------------\n"
     ]
    }
   ],
   "source": [
    "# 'Time' Property\n",
    "\n",
    "# Before Denoise\n",
    "print '------------------------------------------------------------------------'\n",
    "print Datas['Time'].describe()\n",
    "# Mean\n",
    "print 'Mean:\\t' + str(Datas['Time'].mean())\n",
    "# Variance\n",
    "print 'Variance:\\t' + str(Datas['Time'].var())\n",
    "# Standard Deviation\n",
    "print 'Standard Deviation:\\t' + str(Datas['Time'].std())\n",
    "# 25%\n",
    "print '25%:\\t' + str(Datas['Time'].quantile(0.25))\n",
    "# 50%\n",
    "print '50%:\\t' + str(Datas['Time'].quantile(0.5))\n",
    "# 75%\n",
    "print '75%:\\t' + str(Datas['Time'].quantile(0.75))\n",
    "# 90%\n",
    "print '90%:\\t' + str(Datas['Time'].quantile(0.9))\n",
    "# 95%\n",
    "print '95%:\\t' + str(Datas['Time'].quantile(0.95))\n",
    "# 99%\n",
    "print '99%:\\t' + str(Datas['Time'].quantile(0.99))\n",
    "\n",
    "# Frequency\n",
    "print '------------------------FREQUENCY------------------------'\n",
    "temp = Datas['Time'].value_counts()\n",
    "print temp\n",
    "print temp.describe()\n",
    "print '90%: ' + str(temp.quantile(0.9))\n",
    "print '95%: ' + str(temp.quantile(0.95))\n",
    "print '99%: ' + str(temp.quantile(0.99))"
   ]
  },
  {
   "cell_type": "code",
   "execution_count": null,
   "metadata": {
    "collapsed": false
   },
   "outputs": [],
   "source": [
    "import matplotlib.pyplot as plt\n",
    "((Datas['Time'].value_counts()).sort_index()).plot.bar()\n",
    "plt.show()"
   ]
  },
  {
   "cell_type": "markdown",
   "metadata": {},
   "source": [
    "Median = 15, 15h có lượng nghe nhiều nhất\n",
    "\n",
    "Mean = 14.3 < 15 = Median phân phối lệch trái ít về 7h - 0h \n",
    "\n",
    "Đúng với thực tế người nghe nhạc sẽ tập trung nhiều vào khoảng 8h - 23h và tập trung ít ở khoảng 0h - 7h. Không có nghi ngờ về thuộc tính cho bài toán."
   ]
  },
  {
   "cell_type": "code",
   "execution_count": null,
   "metadata": {
    "collapsed": false
   },
   "outputs": [],
   "source": [
    "# 'UserName' Property\n",
    "\n",
    "print '--------------------------------o----------------------------------------'\n",
    "print Datas['UserName'].describe()\n",
    "\n",
    "# Frequency\n",
    "print '------------------------FREQUENCY------------------------'\n",
    "temp = Datas['UserName'].value_counts()\n",
    "print temp\n",
    "print temp.describe()\n",
    "print '90%: ' + str(temp.quantile(0.9))\n",
    "print '95%: ' + str(temp.quantile(0.95))\n",
    "print '99%: ' + str(temp.quantile(0.99))"
   ]
  },
  {
   "cell_type": "code",
   "execution_count": null,
   "metadata": {
    "collapsed": false,
    "scrolled": true
   },
   "outputs": [],
   "source": [
    "import matplotlib.pyplot as plt\n",
    "(((Datas['UserName'].value_counts()).value_counts()).sort_index())[:(Datas['UserName'].value_counts()).quantile(0.99),].plot.bar()\n",
    "plt.show()"
   ]
  },
  {
   "cell_type": "markdown",
   "metadata": {},
   "source": [
    "Có một phần tử rỗng (user không đăng nhập) có tần số xuất hiện cao so với dữ liệu chung => Nhiễu (noise). Khử nhiễu (denoise) bằng cách bỏ không thống kê những phần tử rỗng."
   ]
  },
  {
   "cell_type": "code",
   "execution_count": null,
   "metadata": {
    "collapsed": false
   },
   "outputs": [],
   "source": [
    "# 'UserName' Property\n",
    "# 'Denoise'\n",
    "print '------------------------------------------------------------------------'\n",
    "print Datas['UserName'][Datas['UserName'] != ''].describe()\n",
    "\n",
    "# Frequency\n",
    "print '------------------------FREQUENCY------------------------'\n",
    "temp = Datas['UserName'][Datas['UserName'] != ''].value_counts()\n",
    "print temp\n",
    "print temp.describe()\n",
    "print '90%: ' + str(temp.quantile(0.9))\n",
    "print '95%: ' + str(temp.quantile(0.95))\n",
    "print '99%: ' + str(temp.quantile(0.99))"
   ]
  },
  {
   "cell_type": "markdown",
   "metadata": {},
   "source": [
    "Mode là phần tử 'ktinguyen777' có tần số xuất hiện là 1366.\n",
    "\n",
    "Xét đến tần số xuất hiện của UserName:\n",
    "- 25%: 1, 50%: 4, 75%: 11, 90%: 24.0, 95%: 38.0, 99%: 79.0\n",
    "- max: 1366\n",
    "- mean = 9.8 > 4 = median\n",
    "\n",
    "Ta thấy 99%: 79 mà max: 1366 và mean > median và biểu đồ ở trên thì phân phối lệch phải bởi một số UserName (1%) có tần số lớn.\n",
    "Nghi ngờ: Một số UserName (1%) có tần số lớn làm lệch phân phối."
   ]
  },
  {
   "cell_type": "code",
   "execution_count": null,
   "metadata": {
    "collapsed": false
   },
   "outputs": [],
   "source": [
    "# 'VisitorID' Property\n",
    "\n",
    "print '------------------------------------------------------------------------'\n",
    "print Datas['VisitorID'].describe()\n",
    "\n",
    "# Frequency\n",
    "print '------------------------FREQUENCY------------------------'\n",
    "temp = Datas['VisitorID'].value_counts()\n",
    "print temp\n",
    "print temp.describe()\n",
    "print '90%: ' + str(temp.quantile(0.9))\n",
    "print '95%: ' + str(temp.quantile(0.95))\n",
    "print '99%: ' + str(temp.quantile(0.99))"
   ]
  },
  {
   "cell_type": "code",
   "execution_count": null,
   "metadata": {
    "collapsed": false
   },
   "outputs": [],
   "source": [
    "import matplotlib.pyplot as plt\n",
    "(((Datas['VisitorID'].value_counts()).value_counts()).sort_index())[:(Datas['VisitorID'].value_counts()).quantile(0.99),].plot.bar()\n",
    "plt.show()"
   ]
  },
  {
   "cell_type": "markdown",
   "metadata": {},
   "source": [
    "Mode là phần tử '2000.950e41b3995a7004294b.1480723046568.08827304' có tần số xuất hiện là 2820.\n",
    "\n",
    "Xét đến tần số xuất hiện của VisitorID:\n",
    "- 25%: 2, 50%: 7, 75%: 16, 90%: 32, 95%: 47, 99%: 93\n",
    "- max: 2820\n",
    "- mean = 13.3 > 7 = median\n",
    "\n",
    "Ta thấy 99%: 93 mà max: 2820 và mean > median và biểu đồ trên thì phân phối lệch phải bởi một số VisitorID (1%) có tần số lớn.\n",
    "Cheat: Một số VisitorID (1%) có tần số lớn làm lệch phân phối."
   ]
  },
  {
   "cell_type": "code",
   "execution_count": null,
   "metadata": {
    "collapsed": false
   },
   "outputs": [],
   "source": [
    "# 'MediaID' Property\n",
    "\n",
    "# Before Denoise\n",
    "print '------------------------------------------------------------------------'\n",
    "print Datas['MediaID'].describe()\n",
    "\n",
    "# Frequency\n",
    "print '------------------------FREQUENCY------------------------'\n",
    "temp = Datas['MediaID'].value_counts()\n",
    "print temp\n",
    "print temp.describe()\n",
    "print '90%: ' + str(temp.quantile(0.9))\n",
    "print '95%: ' + str(temp.quantile(0.95))\n",
    "print '99%: ' + str(temp.quantile(0.99))"
   ]
  },
  {
   "cell_type": "code",
   "execution_count": null,
   "metadata": {
    "collapsed": false
   },
   "outputs": [],
   "source": [
    "import matplotlib.pyplot as plt\n",
    "(((Datas['MediaID'].value_counts()).value_counts()).sort_index())[:(Datas['MediaID'].value_counts()).quantile(0.99),].plot.bar()\n",
    "plt.show()"
   ]
  },
  {
   "cell_type": "markdown",
   "metadata": {},
   "source": [
    "Mode là phần tử '1075771528' có tần số xuất hiện là 499286.\n",
    "\n",
    "Xét đến tần số xuất hiện của MediaID:\n",
    "- 25%: 1, 50%: 3, 75%: 13, 90%: 52, 95%: 113, 99%: 675.84\n",
    "- max: 499286\n",
    "- mean = 68.8 > 3 = median\n",
    "\n",
    "Ta thấy 99%: 675.84 mà max: 499286 và mean > median và biểu đồ trên thì phân phối lệch phải bởi một số MediaID (1%) có tần số lớn.\n",
    "Cheat: Một số MediaID (1%) có tần số lớn làm lệch phân phối."
   ]
  },
  {
   "cell_type": "code",
   "execution_count": null,
   "metadata": {
    "collapsed": false,
    "scrolled": true
   },
   "outputs": [],
   "source": [
    "# 'ListenTime' Property\n",
    "\n",
    "# Before Denoise\n",
    "print '------------------------------------------------------------------------'\n",
    "# Mode\n",
    "print 'Mode:\\t' + str(Datas['ListenTime'].mode()/1000)\n",
    "# Mean, 25%, 50%, 75%\n",
    "print Datas['ListenTime'].describe()/1000\n",
    "# 90%\n",
    "print '90%:\\t' + str(Datas['ListenTime'].quantile(0.9)/1000)\n",
    "# 95%\n",
    "print '95%:\\t' + str(Datas['ListenTime'].quantile(0.95)/1000)\n",
    "# 99%\n",
    "print '99%:\\t' + str(Datas['ListenTime'].quantile(0.99)/1000)\n",
    "\n",
    "# Variance\n",
    "print 'Variance:\\t' + str(Datas['ListenTime'].var()/1000)\n",
    "# Skewness\n",
    "print 'Skewness:\\t' + str(Datas['ListenTime'].skew())\n",
    "# Kurtosis\n",
    "print 'Kurtosis:\\t' + str(Datas['ListenTime'].kurt())"
   ]
  },
  {
   "cell_type": "markdown",
   "metadata": {},
   "source": [
    "Skewness > 0 phân phối lệch phải.\n",
    "\n",
    "25%: 155, 50%: 220, 75%: 270, 90%: 315, 95%: 335, 99%: 635 và max: 1093945 gía trị max lệch lớn so với 99%.\n",
    "\n",
    "Mô hình phân phối tập trung chủ yếu ở mean: 268 và phân bố với std: 2274.\n",
    "\n",
    "Cheat: Một số TimeListen có gía trị lớn xuất hiện làm lệch phân phối. "
   ]
  }
 ],
 "metadata": {
  "kernelspec": {
   "display_name": "Python 2",
   "language": "python",
   "name": "python2"
  },
  "language_info": {
   "codemirror_mode": {
    "name": "ipython",
    "version": 2
   },
   "file_extension": ".py",
   "mimetype": "text/x-python",
   "name": "python",
   "nbconvert_exporter": "python",
   "pygments_lexer": "ipython2",
   "version": "2.7.12"
  }
 },
 "nbformat": 4,
 "nbformat_minor": 2
}
