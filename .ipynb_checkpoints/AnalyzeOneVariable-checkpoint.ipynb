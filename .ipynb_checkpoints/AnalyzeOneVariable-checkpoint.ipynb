{
 "cells": [
  {
   "cell_type": "code",
   "execution_count": 1,
   "metadata": {
    "collapsed": false
   },
   "outputs": [],
   "source": [
    "# Read Data\n",
    "import pandas as pd\n",
    "f = open('/home/tampd/Downloads/cheatView1207.txt', 'r')\n",
    "RowDatas = f.read().split('\\n')\n",
    "RawDatas = []\n",
    "for RowData in RowDatas:\n",
    "    RawDatas.append(RowData.split('\\t'))\n",
    "Datas = pd.DataFrame(RawDatas, columns = ['Time', 'UserName', 'VisitorID', 'ListenTime', 'TimeBetween'\n",
    "                                          ,'MediaID', 'IP'])\n",
    "Datas = Datas[:-1]\n",
    "f.close()"
   ]
  },
  {
   "cell_type": "code",
   "execution_count": 2,
   "metadata": {
    "collapsed": false
   },
   "outputs": [],
   "source": [
    "# Reprocess Data\n",
    "Datas['ListenTime'][Datas['ListenTime'] == ''] = '0'\n",
    "Datas['TimeBetween'][Datas['TimeBetween'] == ''] = '0'\n",
    "Datas[['ListenTime', 'TimeBetween']] = Datas[['ListenTime', 'TimeBetween']].astype(float)"
   ]
  },
  {
   "cell_type": "markdown",
   "metadata": {},
   "source": [
    "-Thuộc tính 'Time' thuộc thang đo khoảng: Unique, Mode, Mean, Frequency ,25%, 50%, 75%, 90%, 95%, 99%, Variance, Standard Error.\n",
    "\n",
    "-Thuộc tính 'UserName' thuộc thang đo định danh: Unique, Mode, Frequency.\n",
    "\n",
    "-Thuộc tính 'VistorID' thuộc thang đo định danh: Unique, Mode, Frequency.\n",
    "\n",
    "-Thuộc tính 'ListenTime' thuộc thang đo tỉ lệ: Mode, Mean, 25%, 50%, 75%, 90%, 95%, 99%, Variance, Standard Error.\n",
    "\n",
    "-Thuộc tính 'MediaID' thuộc thang đo định danh: Unique, Mode, Frequency."
   ]
  },
  {
   "cell_type": "code",
   "execution_count": 3,
   "metadata": {
    "collapsed": false
   },
   "outputs": [],
   "source": [
    "# Exchange 'Time' Property\n",
    "import numpy as np\n",
    "temps = np.array(Datas['Time'][:])\n",
    "for idx, temp in enumerate(temps):\n",
    "    temps[idx] = float((((temp.split(' '))[1]).split(':'))[0]) \n",
    "Datas['Time'] = pd.Series(temps)"
   ]
  },
  {
   "cell_type": "code",
   "execution_count": 27,
   "metadata": {
    "collapsed": false,
    "scrolled": true
   },
   "outputs": [
    {
     "name": "stdout",
     "output_type": "stream",
     "text": [
      "------------------------------------------------------------------------\n",
      "count     7330150.0\n",
      "unique         24.0\n",
      "top            15.0\n",
      "freq       547241.0\n",
      "Name: Time, dtype: float64\n",
      "Mean:\t14.2988113477\n",
      "Variance:\t27.3523779589\n",
      "Standard Deviation:\t5.22995009144\n",
      "25%:\t11.0\n",
      "50%:\t15.0\n",
      "75%:\t18.0\n",
      "90%:\t21.0\n",
      "95%:\t22.0\n",
      "99%:\t23.0\n",
      "------------------------FREQUENCY------------------------\n",
      "15.0    547241\n",
      "16.0    531018\n",
      "14.0    503615\n",
      "13.0    478249\n",
      "10.0    472892\n",
      "11.0    466144\n",
      "17.0    459119\n",
      "20.0    447635\n",
      "12.0    439274\n",
      "18.0    424108\n",
      "19.0    405706\n",
      "9.0     397662\n",
      "21.0    383889\n",
      "22.0    323199\n",
      "8.0     255841\n",
      "23.0    214304\n",
      "0.0     134253\n",
      "7.0     122041\n",
      "1.0      84745\n",
      "2.0      59600\n",
      "6.0      56405\n",
      "3.0      44728\n",
      "5.0      40310\n",
      "4.0      38172\n",
      "Name: Time, dtype: int64\n",
      "count        24.000000\n",
      "mean     305422.916667\n",
      "std      185070.884570\n",
      "min       38172.000000\n",
      "25%      112717.000000\n",
      "50%      390775.500000\n",
      "75%      460875.250000\n",
      "max      547241.000000\n",
      "Name: Time, dtype: float64\n",
      "90%: 496005.2\n",
      "95%: 526907.55\n",
      "99%: 543509.71\n"
     ]
    },
    {
     "data": {
      "image/png": "[encoded data removed]",
      "text/plain": [
       "<matplotlib.figure.Figure at 0x7f8a20d0d610>"
      ]
     },
     "metadata": {},
     "output_type": "display_data"
    }
   ],
   "source": [
    "# 'Time' Property\n",
    "\n",
    "# Before Denoise\n",
    "print '------------------------------------------------------------------------'\n",
    "print Datas['Time'].describe()\n",
    "# Mean\n",
    "print 'Mean:\\t' + str(Datas['Time'].mean())\n",
    "# Variance\n",
    "print 'Variance:\\t' + str(Datas['Time'].var())\n",
    "# Standard Deviation\n",
    "print 'Standard Deviation:\\t' + str(Datas['Time'].std())\n",
    "# 25%\n",
    "print '25%:\\t' + str(Datas['Time'].quantile(0.25))\n",
    "# 50%\n",
    "print '50%:\\t' + str(Datas['Time'].quantile(0.5))\n",
    "# 75%\n",
    "print '75%:\\t' + str(Datas['Time'].quantile(0.75))\n",
    "# 90%\n",
    "print '90%:\\t' + str(Datas['Time'].quantile(0.9))\n",
    "# 95%\n",
    "print '95%:\\t' + str(Datas['Time'].quantile(0.95))\n",
    "# 99%\n",
    "print '99%:\\t' + str(Datas['Time'].quantile(0.99))\n",
    "\n",
    "# Frequency\n",
    "print '------------------------FREQUENCY------------------------'\n",
    "temp = Datas['Time'].value_counts()\n",
    "print temp\n",
    "print temp.describe()\n",
    "print '90%: ' + str(temp.quantile(0.9))\n",
    "print '95%: ' + str(temp.quantile(0.95))\n",
    "print '99%: ' + str(temp.quantile(0.99))\n",
    "\n",
    "temp = temp.to_frame()\n",
    "temp.boxplot()\n",
    "plt.show()"
   ]
  },
  {
   "cell_type": "code",
   "execution_count": 5,
   "metadata": {
    "collapsed": false
   },
   "outputs": [
    {
     "data": {
      "image/png": "[encoded data removed]",
      "text/plain": [
       "<matplotlib.figure.Figure at 0x7f8a4ac86250>"
      ]
     },
     "metadata": {},
     "output_type": "display_data"
    }
   ],
   "source": [
    "import matplotlib.pyplot as plt\n",
    "((Datas['Time'].value_counts()).sort_index()).plot.bar()\n",
    "plt.show()"
   ]
  },
  {
   "cell_type": "markdown",
   "metadata": {},
   "source": [
    "Median = 15, 15h có lượng nghe nhiều nhất\n",
    "\n",
    "Mean = 14.3 < 15 = Median phân phối lệch trái ít về 7h - 0h \n",
    "\n",
    "Đúng với thực tế người nghe nhạc sẽ tập trung nhiều vào khoảng 8h - 23h và tập trung ít ở khoảng 0h - 7h. Không có nghi ngờ về thuộc tính cho bài toán."
   ]
  },
  {
   "cell_type": "code",
   "execution_count": 20,
   "metadata": {
    "collapsed": false
   },
   "outputs": [
    {
     "name": "stdout",
     "output_type": "stream",
     "text": [
      "------------------------------------------------------------------------\n",
      "count     7330150\n",
      "unique      28746\n",
      "top              \n",
      "freq      7048100\n",
      "Name: UserName, dtype: object\n",
      "------------------------FREQUENCY------------------------\n",
      "                       7048100\n",
      "ktinguyen777              1366\n",
      "zid.httx2008               766\n",
      "mai_phuong1990             403\n",
      "applifemobi                343\n",
      "aclon10611                 324\n",
      "jimmysscentaur             284\n",
      "phanlinh_cvp               250\n",
      "love_of_death_devil        234\n",
      "Truongngan0910             204\n",
      "jeongjeong                 201\n",
      "petspa                     198\n",
      "thanhcr7cr9                194\n",
      "pjnpjn_motmj_703           186\n",
      "kurei267                   183\n",
      "tryonyoulive3              183\n",
      "duyh3t1                    181\n",
      "popup10                    177\n",
      "trung5aqt1                 170\n",
      "doilavay110                170\n",
      "mino0ne                    166\n",
      "icequeen199                164\n",
      "bumbastic                  164\n",
      "hai.bt                     162\n",
      "nguyenhoanglongpk          161\n",
      "thuyvyls02                 161\n",
      "red205                     158\n",
      "roda_yeuminhanh            155\n",
      "kub0q7                     154\n",
      "vanchibiii                 153\n",
      "                        ...   \n",
      "kybobo2001                   1\n",
      "Traiph0yb                    1\n",
      "hoaixa4593                   1\n",
      "luffy870                     1\n",
      "heo12102003                  1\n",
      "loikontim_s2                 1\n",
      "dominhnhatlk                 1\n",
      "minhgoodgirl                 1\n",
      "nhocphuoc248195              1\n",
      "manhchienTMC                 1\n",
      "nguyenvanduyxd1              1\n",
      "thien2000511                 1\n",
      "amuchan589                   1\n",
      "zid.mrkhangtran73            1\n",
      "uzumaki4athdx                1\n",
      "buell1505                    1\n",
      "tuan123004                   1\n",
      "peachie_luv_bub              1\n",
      "hdhgbdnbnh                   1\n",
      "cilpham                      1\n",
      "shin.1990                    1\n",
      "dothanhthuong11              1\n",
      "spam_er                      1\n",
      "Yo_is_QQ                     1\n",
      "online_2002                  1\n",
      "petien_matbanh               1\n",
      "danhprowatroi                1\n",
      "thao_beo_ngo                 1\n",
      "vampire6585                  1\n",
      "uyenkute_ho                  1\n",
      "Name: UserName, dtype: int64\n",
      "count    2.874600e+04\n",
      "mean     2.549972e+02\n",
      "std      4.157026e+04\n",
      "min      1.000000e+00\n",
      "25%      1.000000e+00\n",
      "50%      4.000000e+00\n",
      "75%      1.100000e+01\n",
      "max      7.048100e+06\n",
      "Name: UserName, dtype: float64\n",
      "90%: 24.0\n",
      "95%: 38.0\n",
      "99%: 79.0\n"
     ]
    }
   ],
   "source": [
    "# 'UserName' Property\n",
    "\n",
    "print '------------------------------------------------------------------------'\n",
    "print Datas['UserName'].describe()\n",
    "\n",
    "# Frequency\n",
    "print '------------------------FREQUENCY------------------------'\n",
    "temp = Datas['UserName'].value_counts()\n",
    "print temp\n",
    "print temp.describe()\n",
    "print '90%: ' + str(temp.quantile(0.9))\n",
    "print '95%: ' + str(temp.quantile(0.95))\n",
    "print '99%: ' + str(temp.quantile(0.99))"
   ]
  },
  {
   "cell_type": "markdown",
   "metadata": {},
   "source": [
    "Có một phần tử rỗng (user không đăng nhập) có tần số xuất hiện cao so với dữ liệu chung => Nhiễu (noise). Khử nhiễu (denoise) bằng cách bỏ không thống kê những phần tử rỗng."
   ]
  },
  {
   "cell_type": "code",
   "execution_count": 26,
   "metadata": {
    "collapsed": false
   },
   "outputs": [
    {
     "name": "stdout",
     "output_type": "stream",
     "text": [
      "------------------------------------------------------------------------\n",
      "count           282050\n",
      "unique           28745\n",
      "top       ktinguyen777\n",
      "freq              1366\n",
      "Name: UserName, dtype: object\n",
      "------------------------FREQUENCY------------------------\n",
      "ktinguyen777            1366\n",
      "zid.httx2008             766\n",
      "mai_phuong1990           403\n",
      "applifemobi              343\n",
      "aclon10611               324\n",
      "jimmysscentaur           284\n",
      "phanlinh_cvp             250\n",
      "love_of_death_devil      234\n",
      "Truongngan0910           204\n",
      "jeongjeong               201\n",
      "petspa                   198\n",
      "thanhcr7cr9              194\n",
      "pjnpjn_motmj_703         186\n",
      "kurei267                 183\n",
      "tryonyoulive3            183\n",
      "duyh3t1                  181\n",
      "popup10                  177\n",
      "trung5aqt1               170\n",
      "doilavay110              170\n",
      "mino0ne                  166\n",
      "bumbastic                164\n",
      "icequeen199              164\n",
      "hai.bt                   162\n",
      "thuyvyls02               161\n",
      "nguyenhoanglongpk        161\n",
      "red205                   158\n",
      "roda_yeuminhanh          155\n",
      "kub0q7                   154\n",
      "vanchibiii               153\n",
      "hgcgdyrt                 151\n",
      "                        ... \n",
      "nhokxinhtinhnghich95       1\n",
      "feelling1006               1\n",
      "cutnguoihoilam123          1\n",
      "fb.gsbs                    1\n",
      "lyanhquan20                1\n",
      "badua83                    1\n",
      "xuanhanh_pt93              1\n",
      "congchuatuyettd            1\n",
      "vankkt111                  1\n",
      "guiltycrown1997            1\n",
      "seirachan                  1\n",
      "pandahan_ntd97             1\n",
      "conzan852                  1\n",
      "minhminhdcmm3              1\n",
      "xju.xju627                 1\n",
      "meomeomaymay               1\n",
      "anhky8585                  1\n",
      "rilakkumachan2454          1\n",
      "toiyeuanhnhi               1\n",
      "huynhvanthuan_1001         1\n",
      "trivanhi246                1\n",
      "bichthuy_tq                1\n",
      "tien47kd1                  1\n",
      "ducnt1121                  1\n",
      "thenaocxdcthoi             1\n",
      "x2002201                   1\n",
      "alo12ba                    1\n",
      "nina.mini_789              1\n",
      "banggiabhlc                1\n",
      "placuc_clacup              1\n",
      "Name: UserName, dtype: int64\n",
      "count    28745.000000\n",
      "mean         9.812141\n",
      "std         18.586818\n",
      "min          1.000000\n",
      "25%          1.000000\n",
      "50%          4.000000\n",
      "75%         11.000000\n",
      "max       1366.000000\n",
      "Name: UserName, dtype: float64\n",
      "90%: 24.0\n",
      "95%: 38.0\n",
      "99%: 79.0\n"
     ]
    },
    {
     "data": {
      "image/png": "[encoded data removed]",
      "text/plain": [
       "<matplotlib.figure.Figure at 0x7f8a4a71a9d0>"
      ]
     },
     "metadata": {},
     "output_type": "display_data"
    }
   ],
   "source": [
    "# 'UserName' Property\n",
    "# 'Denoise'\n",
    "print '------------------------------------------------------------------------'\n",
    "print Datas['UserName'][Datas['UserName'] != ''].describe()\n",
    "\n",
    "# Frequency\n",
    "print '------------------------FREQUENCY------------------------'\n",
    "temp = Datas['UserName'][Datas['UserName'] != ''].value_counts()\n",
    "print temp\n",
    "print temp.describe()\n",
    "print '90%: ' + str(temp.quantile(0.9))\n",
    "print '95%: ' + str(temp.quantile(0.95))\n",
    "print '99%: ' + str(temp.quantile(0.99))\n",
    "temp = temp.to_frame()\n",
    "temp.boxplot()\n",
    "plt.show()"
   ]
  },
  {
   "cell_type": "code",
   "execution_count": 8,
   "metadata": {
    "collapsed": false
   },
   "outputs": [
    {
     "name": "stderr",
     "output_type": "stream",
     "text": [
      "/usr/local/lib/python2.7/dist-packages/pandas/core/internals.py:252: VisibleDeprecationWarning: using a non-integer number instead of an integer will result in an error in the future\n",
      "  return self.values[slicer]\n",
      "/usr/local/lib/python2.7/dist-packages/pandas/indexes/base.py:1428: VisibleDeprecationWarning: using a non-integer number instead of an integer will result in an error in the future\n",
      "  return promote(getitem(key))\n"
     ]
    },
    {
     "data": {
      "image/png": "[encoded data removed]",
      "text/plain": [
       "<matplotlib.figure.Figure at 0x7f8a4a787610>"
      ]
     },
     "metadata": {},
     "output_type": "display_data"
    }
   ],
   "source": [
    "import matplotlib.pyplot as plt\n",
    "(((Datas['UserName'].value_counts()).value_counts()).sort_index())[:(Datas['UserName'].value_counts()).quantile(0.99),].plot.bar()\n",
    "plt.show()"
   ]
  },
  {
   "cell_type": "markdown",
   "metadata": {},
   "source": [
    "Mode là phần tử 'ktinguyen777' có tần số xuất hiện là 1366.\n",
    "\n",
    "Xét đến tần số xuất hiện của UserName:\n",
    "- 25%: 1, 50%: 4, 75%: 11, 90%: 24.0, 95%: 38.0, 99%: 79.0\n",
    "- max: 1366\n",
    "- mean = 9.8 > 4 = median\n",
    "\n",
    "Ta thấy 99%: 79 mà max: 1366 và mean > median và biểu đồ ở trên thì phân phối lệch phải bởi một số UserName (1%) có tần số lớn.\n",
    "Nghi ngờ: Một số UserName (1%) có tần số lớn làm lệch phân phối."
   ]
  },
  {
   "cell_type": "code",
   "execution_count": 22,
   "metadata": {
    "collapsed": false
   },
   "outputs": [
    {
     "name": "stdout",
     "output_type": "stream",
     "text": [
      "------------------------------------------------------------------------\n",
      "count                                              7330150\n",
      "unique                                              551273\n",
      "top       2000.950e41b3995a7004294b.1480723046568.08827304\n",
      "freq                                                  2820\n",
      "Name: VisitorID, dtype: object\n",
      "------------------------FREQUENCY------------------------\n",
      "2000.950e41b3995a7004294b.1480723046568.08827304    2820\n",
      "2000.28cc2c1dd2fd3ba362ec.1479732852895.416a8e72    2109\n",
      "2000.4632fb4e652d8c73d53c.1428632301775.cb174923    1880\n",
      "2000.88d902f6fc15154b4c04.1479900113410.c766d81b    1658\n",
      "2000.c6d65f50b35e5a00034f.1444575680418.d0cc40bb    1410\n",
      "2000.c22818d3f2391b674228.1481081816474.f7c1e4ce    1383\n",
      "2000.541fbbde111cf842a10d.1470229105445.382da963    1366\n",
      "2000.1eadcae21efbf7a5aeea.1452183291417.5561c780    1359\n",
      "2000.8e0f8a3049e0a0bef9f1.1476058996337.15e07269    1308\n",
      "2000.864c03428b9762c93b86.1474014574509.110d2aa7    1264\n",
      "2000.c08a92e0acc1459f1cd0.1455772006048.5b3c12a0    1137\n",
      "2000.706b82c7051bec45b50a.1477570962364.b12cdeba    1061\n",
      "2000.720b93443861d13f8870.1453954924167.8d952de7     986\n",
      "2000.c72e549eb37d5a23036c.1479913829491.1c40ad6e     952\n",
      "2000.a2f16eff0d22e47cbd33.1477027929816.79d3dba1     929\n",
      "2000.ac270441e36b0a35537a.1460708682153.56921560     918\n",
      "2000.6ae366b47f8296dccf93.1462102780597.ff9e5e6a     840\n",
      "2000.3163b3773655df0b8644.1457163723133.6f430c13     810\n",
      "2000.2d6ff0c5272ace74973b.1480484079287.e10f67d9     784\n",
      "2000.fc5d687adcae35f06cbf.1474334339641.ec7ddf71     758\n",
      "2000.ae06661037d4de8a87c5.1467805639696.ad627e36     750\n",
      "2000.223998b492677b392276.1476152135640.cdba5f5a     722\n",
      "2000.681f7e8167748e2ad765.1481117079637.dff0f189     715\n",
      "2000.1d00438db8de518008cf.1419398661285.9ef24dd1     711\n",
      "2000.45da85866b4f8211db5e.1472533859322.ce5d974d     701\n",
      "2000.450decfb43e7aab9f3f6.1450766445954.d6fe1282     681\n",
      "2000.3766a06b9a8f73d12a9e.1478944269441.d6ae5b4b     677\n",
      "2000.3c125955b78e5ed0079f.1478535211050.14d58363     673\n",
      "2000.b282d09b76ab9ff5c6ba.1462964045127.abd0f4b9     661\n",
      "2000.983b46660540ec1eb551.1455518216406.73046917     644\n",
      "                                                    ... \n",
      "2000.77998932e7f30ead57e2.1469066971927.ec79da65       1\n",
      "2000.6c1410b6be6957370e78.1477799052749.1d12a430       1\n",
      "2000.a458aec56e2f8771de3e.1481099780276.15d34fab       1\n",
      "2000.b5908292ab6742391b76.1481110669280.689c1c89       1\n",
      "2000.c63294706da784f9ddb6.1474790020787.5604a526       1\n",
      "2000.c7148949e59b0cc5558a.1476602211624.b7b0ee1e       1\n",
      "2000.808bbab7bc7d55230c6c.1473416821737.d8558e02       1\n",
      "2000.b6c52f56a7bb4ee517aa.1480201710769.1b84519e       1\n",
      "2000.bd2a45d0963c7f62262d.1480356963606.0f0c41d0       1\n",
      "2000.ca7aefc6052cec72b53d.1481081935486.2298fb06       1\n",
      "2000.d33ee7b1af5946071f48.1480787337400.030fd8da       1\n",
      "2000.9305bd2111cbf895a1da.1481043577776.4f7a4354       1\n",
      "2000.4b86111ac5022c5c7513.1452649742243.3fb1a783       1\n",
      "2000.27fbd0c6632c8a72d33d.1481043100019.2f471a6a       1\n",
      "2000.038270bba5774c291566.1471158411387.07b533f7       1\n",
      "2000.e1850ebf0564ec3ab575.1478437025683.78629f11       1\n",
      "2000.2afd8facf05919074048.1481127761587.56bbb8b6       1\n",
      "2000.85c7bd1bd7d93e8767c8.1470135714881.ac8d0c1f       1\n",
      "2000.5c91dd31eafd03a35aec.1470821708796.f412ebde       1\n",
      "2000.77c30d4524b0cdee94a1.1481110868893.25b462e8       1\n",
      "2000.2c632b6bfabc13e24aad.1474856104880.77b19213       1\n",
      "2000.ec0995919e5b77052e4a.1473413572745.8fd53229       1\n",
      "2000.a5da2cfe6dac84f2ddbd.1419746137342.fec857d2       1\n",
      "2000.12875647d4973dc96486.1475938996628.cd1b01ff       1\n",
      "2000.941c5a777e799727ce68.1444267327949.0ed093d6       1\n",
      "2000.ff61da0411d1f88fa1c0.1474114253085.7723720f       1\n",
      "2000.a7dc51e85e34b76aee25.1477360819672.a25d4209       1\n",
      "2000.16cb98a43376da288367.1476707466179.ff37a705       1\n",
      "2000.2d021d7870aa99f4c0bb.1476603296750.80de44d6       1\n",
      "2000.3499d42a2fcec6909fdf.1479087835030.aaed48c1       1\n",
      "Name: VisitorID, dtype: int64\n",
      "count    551273.000000\n",
      "mean         13.296769\n",
      "std          21.130069\n",
      "min           1.000000\n",
      "25%           2.000000\n",
      "50%           7.000000\n",
      "75%          16.000000\n",
      "max        2820.000000\n",
      "Name: VisitorID, dtype: float64\n",
      "90%: 32.0\n",
      "95%: 47.0\n",
      "99%: 93.0\n"
     ]
    },
    {
     "data": {
      "image/png": "[encoded data removed]",
      "text/plain": [
       "<matplotlib.figure.Figure at 0x7f8a20e55790>"
      ]
     },
     "metadata": {},
     "output_type": "display_data"
    }
   ],
   "source": [
    "# 'VisitorID' Property\n",
    "\n",
    "print '------------------------------------------------------------------------'\n",
    "print Datas['VisitorID'].describe()\n",
    "\n",
    "# Frequency\n",
    "print '------------------------FREQUENCY------------------------'\n",
    "temp = Datas['VisitorID'].value_counts()\n",
    "print temp\n",
    "print temp.describe()\n",
    "print '90%: ' + str(temp.quantile(0.9))\n",
    "print '95%: ' + str(temp.quantile(0.95))\n",
    "print '99%: ' + str(temp.quantile(0.99))\n",
    "temp = temp.to_frame()\n",
    "temp.boxplot()\n",
    "plt.show()"
   ]
  },
  {
   "cell_type": "code",
   "execution_count": 10,
   "metadata": {
    "collapsed": false
   },
   "outputs": [
    {
     "data": {
      "image/png": "[encoded data removed]",
      "text/plain": [
       "<matplotlib.figure.Figure at 0x7f8a4a8ccc10>"
      ]
     },
     "metadata": {},
     "output_type": "display_data"
    }
   ],
   "source": [
    "import matplotlib.pyplot as plt\n",
    "(((Datas['VisitorID'].value_counts()).value_counts()).sort_index())[:(Datas['VisitorID'].value_counts()).quantile(0.99),].plot.bar()\n",
    "plt.show()"
   ]
  },
  {
   "cell_type": "markdown",
   "metadata": {},
   "source": [
    "Mode là phần tử '2000.950e41b3995a7004294b.1480723046568.08827304' có tần số xuất hiện là 2820.\n",
    "\n",
    "Xét đến tần số xuất hiện của VisitorID:\n",
    "- 25%: 2, 50%: 7, 75%: 16, 90%: 32, 95%: 47, 99%: 93\n",
    "- max: 2820\n",
    "- mean = 13.3 > 7 = median\n",
    "\n",
    "Ta thấy 99%: 93 mà max: 2820 và mean > median và biểu đồ trên thì phân phối lệch phải bởi một số VisitorID (1%) có tần số lớn.\n",
    "Cheat: Một số VisitorID (1%) có tần số lớn làm lệch phân phối."
   ]
  },
  {
   "cell_type": "code",
   "execution_count": 23,
   "metadata": {
    "collapsed": false
   },
   "outputs": [
    {
     "name": "stdout",
     "output_type": "stream",
     "text": [
      "------------------------------------------------------------------------\n",
      "count        7330150\n",
      "unique        106517\n",
      "top       1075771528\n",
      "freq          499286\n",
      "Name: MediaID, dtype: object\n",
      "------------------------FREQUENCY------------------------\n",
      "1075771528    499286\n",
      "1075791766    280690\n",
      "1075794054    211553\n",
      "1075793052    198952\n",
      "1075772551    180833\n",
      "1075794399    159455\n",
      "1075771982    122015\n",
      "1075758987     72397\n",
      "1075782997     71611\n",
      "1075792292     70711\n",
      "1075757848     63561\n",
      "1075752246     58828\n",
      "1075785257     54585\n",
      "6282518        49595\n",
      "1075751008     43786\n",
      "1075784817     42584\n",
      "1075771983     41706\n",
      "1075758867     39788\n",
      "1075465009     33073\n",
      "1074425097     31916\n",
      "1075550468     30920\n",
      "1075794564     28606\n",
      "1075796111     27823\n",
      "1075755756     26508\n",
      "1075749994     25913\n",
      "1075552481     25051\n",
      "1075796186     22273\n",
      "1075765293     21551\n",
      "1075752472     21029\n",
      "1075455731     19015\n",
      "               ...  \n",
      "3423414            1\n",
      "902688             1\n",
      "5902812            1\n",
      "5877278            1\n",
      "2018764            1\n",
      "3505790            1\n",
      "1405174            1\n",
      "5730862            1\n",
      "1075538421         1\n",
      "4249263            1\n",
      "1073788022         1\n",
      "1075470467         1\n",
      "1075470465         1\n",
      "1073761321         1\n",
      "1074404453         1\n",
      "1074094145         1\n",
      "4099890            1\n",
      "6196720            1\n",
      "3318286            1\n",
      "5504189            1\n",
      "1074211974         1\n",
      "5935953            1\n",
      "1074255277         1\n",
      "4903442            1\n",
      "1074211973         1\n",
      "480996             1\n",
      "194923             1\n",
      "1075231926         1\n",
      "759776             1\n",
      "287141             1\n",
      "Name: MediaID, dtype: int64\n",
      "count    106517.000000\n",
      "mean         68.816715\n",
      "std        2261.387523\n",
      "min           1.000000\n",
      "25%           1.000000\n",
      "50%           3.000000\n",
      "75%          13.000000\n",
      "max      499286.000000\n",
      "Name: MediaID, dtype: float64\n",
      "90%: 52.0\n",
      "95%: 113.0\n",
      "99%: 675.84\n"
     ]
    },
    {
     "data": {
      "image/png": "[encoded data removed]",
      "text/plain": [
       "<matplotlib.figure.Figure at 0x7f8a49e2dd10>"
      ]
     },
     "metadata": {},
     "output_type": "display_data"
    }
   ],
   "source": [
    "# 'MediaID' Property\n",
    "\n",
    "# Before Denoise\n",
    "print '------------------------------------------------------------------------'\n",
    "print Datas['MediaID'].describe()\n",
    "\n",
    "# Frequency\n",
    "print '------------------------FREQUENCY------------------------'\n",
    "temp = Datas['MediaID'].value_counts()\n",
    "print temp\n",
    "print temp.describe()\n",
    "print '90%: ' + str(temp.quantile(0.9))\n",
    "print '95%: ' + str(temp.quantile(0.95))\n",
    "print '99%: ' + str(temp.quantile(0.99))\n",
    "\n",
    "temp = temp.to_frame()\n",
    "temp.boxplot()\n",
    "plt.show()"
   ]
  },
  {
   "cell_type": "code",
   "execution_count": 12,
   "metadata": {
    "collapsed": false
   },
   "outputs": [
    {
     "data": {
      "image/png": "[encoded data removed]",
      "text/plain": [
       "<matplotlib.figure.Figure at 0x7f8a49fbba50>"
      ]
     },
     "metadata": {},
     "output_type": "display_data"
    }
   ],
   "source": [
    "import matplotlib.pyplot as plt\n",
    "(((Datas['MediaID'].value_counts()).value_counts()).sort_index())[:(Datas['MediaID'].value_counts()).quantile(0.99),].plot.bar()\n",
    "plt.show()"
   ]
  },
  {
   "cell_type": "markdown",
   "metadata": {},
   "source": [
    "Mode là phần tử '1075771528' có tần số xuất hiện là 499286.\n",
    "\n",
    "Xét đến tần số xuất hiện của MediaID:\n",
    "- 25%: 1, 50%: 3, 75%: 13, 90%: 52, 95%: 113, 99%: 675.84\n",
    "- max: 499286\n",
    "- mean = 68.8 > 3 = median\n",
    "\n",
    "Ta thấy 99%: 675.84 mà max: 499286 và mean > median và biểu đồ trên thì phân phối lệch phải bởi một số MediaID (1%) có tần số lớn.\n",
    "Cheat: Một số MediaID (1%) có tần số lớn làm lệch phân phối."
   ]
  },
  {
   "cell_type": "code",
   "execution_count": 29,
   "metadata": {
    "collapsed": false,
    "scrolled": true
   },
   "outputs": [
    {
     "name": "stdout",
     "output_type": "stream",
     "text": [
      "------------------------------------------------------------------------\n",
      "Mode:\t0    270.0\n",
      "dtype: float64\n",
      "count    7.330150e+06\n",
      "mean     2.681830e+05\n",
      "std      2.274106e+06\n",
      "min      3.000000e+04\n",
      "25%      1.550000e+05\n",
      "50%      2.200000e+05\n",
      "75%      2.700000e+05\n",
      "max      1.093945e+09\n",
      "Name: ListenTime, dtype: float64\n",
      "90%:\t315.0\n",
      "95%:\t335.0\n",
      "99%:\t635.0\n",
      "Variance:\t5171559736.76\n",
      "Skewness:\t128.299082071\n",
      "Kurtosis:\t27306.150707\n"
     ]
    },
    {
     "data": {
      "image/png": "[encoded data removed]",
      "text/plain": [
       "<matplotlib.figure.Figure at 0x7f8a208dc290>"
      ]
     },
     "metadata": {},
     "output_type": "display_data"
    }
   ],
   "source": [
    "# 'ListenTime' Property\n",
    "\n",
    "# Before Denoise\n",
    "print '------------------------------------------------------------------------'\n",
    "# Mode\n",
    "print 'Mode:\\t' + str(Datas['ListenTime'].mode()/1000)\n",
    "# Mean, 25%, 50%, 75%\n",
    "print Datas['ListenTime'].describe()\n",
    "# 90%\n",
    "print '90%:\\t' + str(Datas['ListenTime'].quantile(0.9)/1000)\n",
    "# 95%\n",
    "print '95%:\\t' + str(Datas['ListenTime'].quantile(0.95)/1000)\n",
    "# 99%\n",
    "print '99%:\\t' + str(Datas['ListenTime'].quantile(0.99)/1000)\n",
    "\n",
    "# Variance\n",
    "print 'Variance:\\t' + str(Datas['ListenTime'].var()/1000)\n",
    "# Skewness\n",
    "print 'Skewness:\\t' + str(Datas['ListenTime'].skew())\n",
    "# Kurtosis\n",
    "print 'Kurtosis:\\t' + str(Datas['ListenTime'].kurt())\n",
    "\n",
    "Datas['ListenTime'].to_frame().boxplot()\n",
    "plt.show()"
   ]
  },
  {
   "cell_type": "markdown",
   "metadata": {},
   "source": [
    "Skewness > 0 phân phối lệch phải.\n",
    "\n",
    "25%: 155, 50%: 220, 75%: 270, 90%: 315, 95%: 335, 99%: 635 và max: 1093945 gía trị max lệch lớn so với 99%.\n",
    "\n",
    "Mô hình phân phối tập trung chủ yếu ở mean: 268 và phân bố với std: 2274.\n",
    "\n",
    "Cheat: Một số TimeListen có gía trị lớn xuất hiện làm lệch phân phối. "
   ]
  }
 ],
 "metadata": {
  "kernelspec": {
   "display_name": "Python 2",
   "language": "python",
   "name": "python2"
  },
  "language_info": {
   "codemirror_mode": {
    "name": "ipython",
    "version": 2
   },
   "file_extension": ".py",
   "mimetype": "text/x-python",
   "name": "python",
   "nbconvert_exporter": "python",
   "pygments_lexer": "ipython2",
   "version": "2.7.12"
  }
 },
 "nbformat": 4,
 "nbformat_minor": 2
}
